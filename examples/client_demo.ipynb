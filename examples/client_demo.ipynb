{
 "cells": [
  {
   "cell_type": "code",
   "execution_count": 3,
   "metadata": {},
   "outputs": [
    {
     "name": "stderr",
     "output_type": "stream",
     "text": [
      "2024-10-15 17:25:59,575 - INFO - Initializing MarkerAPIClient with base URL: http://51.8.81.159:8080\n"
     ]
    }
   ],
   "source": [
    "from marker_api_client import MarkerAPIClient\n",
    "\n",
    "client = MarkerAPIClient(base_url=\"http://51.8.81.159:8080\")"
   ]
  },
  {
   "cell_type": "code",
   "execution_count": 5,
   "metadata": {},
   "outputs": [
    {
     "name": "stderr",
     "output_type": "stream",
     "text": [
      "2024-10-15 17:30:30,337 - INFO - Converting batch of 1 files\n",
      "Preparing files:   0%|          | 0/1 [00:00<?, ?it/s]2024-10-15 17:30:30,338 - INFO - Prepared file: ./data/llama.pdf\n",
      "Preparing files: 100%|██████████| 1/1 [00:00<00:00, 2178.86it/s]\n",
      "2024-10-15 17:30:30,339 - INFO - Sending batch conversion request\n",
      "2024-10-15 17:30:30,362 - INFO - Batch conversion request successful\n"
     ]
    },
    {
     "name": "stdout",
     "output_type": "stream",
     "text": [
      "task_id='d6006404-dbd7-4afa-a5cb-b5ad30f3df73' status='Processing'\n"
     ]
    }
   ],
   "source": [
    "result = client.load_data([\"./data/llama.pdf\"], show_progress=True)\n",
    "print(result)"
   ]
  },
  {
   "cell_type": "code",
   "execution_count": null,
   "metadata": {},
   "outputs": [],
   "source": []
  }
 ],
 "metadata": {
  "kernelspec": {
   "display_name": "vision-venv",
   "language": "python",
   "name": "python3"
  },
  "language_info": {
   "codemirror_mode": {
    "name": "ipython",
    "version": 3
   },
   "file_extension": ".py",
   "mimetype": "text/x-python",
   "name": "python",
   "nbconvert_exporter": "python",
   "pygments_lexer": "ipython3",
   "version": "3.11.10"
  }
 },
 "nbformat": 4,
 "nbformat_minor": 2
}

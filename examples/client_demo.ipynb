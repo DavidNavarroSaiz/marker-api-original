{
 "cells": [
  {
   "cell_type": "code",
   "execution_count": null,
   "metadata": {},
   "outputs": [],
   "source": [
    "from marker_api_client import MarkerAPIClient\n",
    "\n",
    "client = MarkerAPIClient(base_url=\"http://51.8.81.159:8080/\")"
   ]
  }
 ],
 "metadata": {
  "kernelspec": {
   "display_name": "vision-venv",
   "language": "python",
   "name": "python3"
  },
  "language_info": {
   "name": "python",
   "version": "3.11.10"
  }
 },
 "nbformat": 4,
 "nbformat_minor": 2
}
